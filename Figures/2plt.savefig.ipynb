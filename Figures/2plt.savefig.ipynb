{
 "cells": [
  {
   "cell_type": "code",
   "execution_count": 1,
   "id": "b30740ed",
   "metadata": {},
   "outputs": [],
   "source": [
    "import pandas as pd\n",
    "import numpy as np\n",
    "import matplotlib.pyplot as plt\n",
    "import seaborn as sns\n",
    "import sqlite3"
   ]
  },
  {
   "cell_type": "code",
   "execution_count": 2,
   "id": "c946c65c",
   "metadata": {},
   "outputs": [],
   "source": [
    "with sqlite3.connect('/Users/Marcy_Student/Desktop/Projects /Project-Theme-Park-Analytics-/Data/themepark.db') as conn:\n",
    "    cursor = conn.cursor()\n",
    "    cursor.execute"
   ]
  },
  {
   "cell_type": "code",
   "execution_count": 3,
   "id": "6852e7d2",
   "metadata": {},
   "outputs": [
    {
     "name": "stdout",
     "output_type": "stream",
     "text": [
      "   cid              name     type  notnull dflt_value  pk\n",
      "0    0    ticket_type_id  INTEGER        0       None   1\n",
      "1    1  ticket_type_name     TEXT        1       None   0\n",
      "2    2  base_price_cents  INTEGER        0       None   0\n",
      "3    3      restrictions     TEXT        0       None   0\n"
     ]
    }
   ],
   "source": [
    "columns = pd.read_sql_query(\"PRAGMA table_info(dim_ticket);\", conn)\n",
    "print(columns)"
   ]
  },
  {
   "cell_type": "code",
   "execution_count": 4,
   "id": "4617781b",
   "metadata": {},
   "outputs": [
    {
     "name": "stdout",
     "output_type": "stream",
     "text": [
      "    cid               name     type  notnull dflt_value  pk\n",
      "0     0           visit_id  INTEGER        0       None   1\n",
      "1     1           guest_id  INTEGER        1       None   0\n",
      "2     2     ticket_type_id  INTEGER        1       None   0\n",
      "3     3         visit_date     TEXT        1       None   0\n",
      "4     4            date_id  INTEGER        0       None   0\n",
      "5     5         party_size  INTEGER        0       None   0\n",
      "6     6         entry_time     TEXT        0       None   0\n",
      "7     7          exit_time     TEXT        0       None   0\n",
      "8     8  total_spend_cents     TEXT        0       None   0\n",
      "9     9     promotion_code     TEXT        0       None   0\n",
      "10   10  spend_cents_clean  INTEGER        0       None   0\n"
     ]
    }
   ],
   "source": [
    "columns = pd.read_sql_query(\"PRAGMA table_info(fact_visits);\", conn)\n",
    "print(columns)"
   ]
  },
  {
   "cell_type": "code",
   "execution_count": null,
   "id": "98d39240",
   "metadata": {},
   "outputs": [],
   "source": []
  }
 ],
 "metadata": {
  "kernelspec": {
   "display_name": "data-analysis-env",
   "language": "python",
   "name": "python3"
  },
  "language_info": {
   "codemirror_mode": {
    "name": "ipython",
    "version": 3
   },
   "file_extension": ".py",
   "mimetype": "text/x-python",
   "name": "python",
   "nbconvert_exporter": "python",
   "pygments_lexer": "ipython3",
   "version": "3.9.22"
  }
 },
 "nbformat": 4,
 "nbformat_minor": 5
}
