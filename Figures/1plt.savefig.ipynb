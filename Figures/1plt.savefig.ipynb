{
 "cells": [
  {
   "cell_type": "code",
   "execution_count": 8,
   "id": "16f38de0",
   "metadata": {},
   "outputs": [],
   "source": [
    "import pandas as pd\n",
    "import numpy as np\n",
    "import matplotlib.pyplot as plt\n",
    "import seaborn as sns\n",
    "import sqlite3"
   ]
  },
  {
   "cell_type": "code",
   "execution_count": 9,
   "id": "d96ca590",
   "metadata": {},
   "outputs": [],
   "source": [
    "with sqlite3.connect('/Users/Marcy_Student/Desktop/Projects /Project-Theme-Park-Analytics-/Data/themepark.db') as conn:\n",
    "    cursor = conn.cursor()\n",
    "    cursor.execute"
   ]
  },
  {
   "cell_type": "code",
   "execution_count": 10,
   "id": "b9f06b0b",
   "metadata": {},
   "outputs": [
    {
     "data": {
      "text/html": [
       "<div>\n",
       "<style scoped>\n",
       "    .dataframe tbody tr th:only-of-type {\n",
       "        vertical-align: middle;\n",
       "    }\n",
       "\n",
       "    .dataframe tbody tr th {\n",
       "        vertical-align: top;\n",
       "    }\n",
       "\n",
       "    .dataframe thead th {\n",
       "        text-align: right;\n",
       "    }\n",
       "</style>\n",
       "<table border=\"1\" class=\"dataframe\">\n",
       "  <thead>\n",
       "    <tr style=\"text-align: right;\">\n",
       "      <th></th>\n",
       "      <th>name</th>\n",
       "    </tr>\n",
       "  </thead>\n",
       "  <tbody>\n",
       "    <tr>\n",
       "      <th>0</th>\n",
       "      <td>dim_guest</td>\n",
       "    </tr>\n",
       "    <tr>\n",
       "      <th>1</th>\n",
       "      <td>dim_ticket</td>\n",
       "    </tr>\n",
       "    <tr>\n",
       "      <th>2</th>\n",
       "      <td>dim_attraction</td>\n",
       "    </tr>\n",
       "    <tr>\n",
       "      <th>3</th>\n",
       "      <td>fact_visits</td>\n",
       "    </tr>\n",
       "    <tr>\n",
       "      <th>4</th>\n",
       "      <td>fact_ride_events</td>\n",
       "    </tr>\n",
       "  </tbody>\n",
       "</table>\n",
       "</div>"
      ],
      "text/plain": [
       "               name\n",
       "0         dim_guest\n",
       "1        dim_ticket\n",
       "2    dim_attraction\n",
       "3       fact_visits\n",
       "4  fact_ride_events"
      ]
     },
     "execution_count": 10,
     "metadata": {},
     "output_type": "execute_result"
    }
   ],
   "source": [
    "df = pd.read_sql_query(\"SELECT name FROM sqlite_master WHERE type='table';\", conn)\n",
    "df.head()"
   ]
  },
  {
   "cell_type": "code",
   "execution_count": 11,
   "id": "7ff13c66",
   "metadata": {},
   "outputs": [
    {
     "name": "stdout",
     "output_type": "stream",
     "text": [
      "   cid              name     type  notnull dflt_value  pk\n",
      "0    0    ticket_type_id  INTEGER        0       None   1\n",
      "1    1  ticket_type_name     TEXT        1       None   0\n",
      "2    2  base_price_cents  INTEGER        0       None   0\n",
      "3    3      restrictions     TEXT        0       None   0\n"
     ]
    }
   ],
   "source": [
    "columns = pd.read_sql_query(\"PRAGMA table_info(dim_ticket);\", conn)\n",
    "print(columns)"
   ]
  },
  {
   "cell_type": "code",
   "execution_count": 12,
   "id": "066b7fca",
   "metadata": {},
   "outputs": [
    {
     "name": "stdout",
     "output_type": "stream",
     "text": [
      "    cid               name     type  notnull dflt_value  pk\n",
      "0     0           visit_id  INTEGER        0       None   1\n",
      "1     1           guest_id  INTEGER        1       None   0\n",
      "2     2     ticket_type_id  INTEGER        1       None   0\n",
      "3     3         visit_date     TEXT        1       None   0\n",
      "4     4            date_id  INTEGER        0       None   0\n",
      "5     5         party_size  INTEGER        0       None   0\n",
      "6     6         entry_time     TEXT        0       None   0\n",
      "7     7          exit_time     TEXT        0       None   0\n",
      "8     8  total_spend_cents     TEXT        0       None   0\n",
      "9     9     promotion_code     TEXT        0       None   0\n",
      "10   10  spend_cents_clean  INTEGER        0       None   0\n"
     ]
    }
   ],
   "source": [
    "columns = pd.read_sql(\"PRAGMA table_info(fact_visits);\", conn)\n",
    "print(columns)"
   ]
  },
  {
   "cell_type": "code",
   "execution_count": 13,
   "id": "ee81492f",
   "metadata": {},
   "outputs": [
    {
     "name": "stdout",
     "output_type": "stream",
     "text": [
      "  ticket_type_name  total_visits\n",
      "0         Day Pass            22\n",
      "1              VIP            18\n",
      "2      Family Pack             7\n"
     ]
    }
   ],
   "source": [
    "query = \"\"\"\n",
    "SELECT \n",
    "    dt.ticket_type_name AS ticket_type_name,\n",
    "    COUNT(fv.visit_id) AS total_visits\n",
    "FROM fact_visits fv\n",
    "JOIN dim_ticket dt \n",
    "    ON fv.ticket_type_id = dt.ticket_type_id\n",
    "GROUP BY dt.ticket_type_name\n",
    "ORDER BY total_visits DESC;\n",
    "\"\"\"\n",
    "\n",
    "df = pd.read_sql(query, conn)\n",
    "print(df.head())"
   ]
  },
  {
   "cell_type": "code",
   "execution_count": 14,
   "id": "542a6d18",
   "metadata": {},
   "outputs": [
    {
     "name": "stderr",
     "output_type": "stream",
     "text": [
      "/var/folders/lv/2nxyfpy14xv39gqw4vptbxlm0000gp/T/ipykernel_75373/3473468380.py:2: FutureWarning: \n",
      "\n",
      "Passing `palette` without assigning `hue` is deprecated and will be removed in v0.14.0. Assign the `x` variable to `hue` and set `legend=False` for the same effect.\n",
      "\n",
      "  sns.barplot(data=df, x=\"ticket_type_name\", y=\"total_visits\", palette=\"viridis\")\n"
     ]
    },
    {
     "data": {
      "image/png": "[encoded data removed]",
      "text/plain": [
       "<Figure size 800x500 with 1 Axes>"
      ]
     },
     "metadata": {},
     "output_type": "display_data"
    }
   ],
   "source": [
    "\n",
    "plt.figure(figsize=(8,5))\n",
    "sns.barplot(data=df, x=\"ticket_type_name\", y=\"total_visits\", palette=\"viridis\")\n",
    "\n",
    "plt.title(\"Visits by Ticket Type\")\n",
    "plt.xlabel(\"Ticket Type\")\n",
    "plt.ylabel(\"Number of Visits\")\n",
    "plt.xticks(rotation=30)\n",
    "plt.show()"
   ]
  }
 ],
 "metadata": {
  "kernelspec": {
   "display_name": "data-analysis-env",
   "language": "python",
   "name": "python3"
  },
  "language_info": {
   "codemirror_mode": {
    "name": "ipython",
    "version": 3
   },
   "file_extension": ".py",
   "mimetype": "text/x-python",
   "name": "python",
   "nbconvert_exporter": "python",
   "pygments_lexer": "ipython3",
   "version": "3.9.22"
  }
 },
 "nbformat": 4,
 "nbformat_minor": 5
}
